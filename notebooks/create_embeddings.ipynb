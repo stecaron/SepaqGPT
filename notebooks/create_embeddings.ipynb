{
 "cells": [
  {
   "cell_type": "code",
   "execution_count": null,
   "id": "2288bf8a",
   "metadata": {},
   "outputs": [],
   "source": [
    "import os\n",
    "import pandas as pd\n",
    "from pathlib import Path\n",
    "import openai\n",
    "\n",
    "import sys\n",
    "sys.path.insert(0, '..')\n",
    "from utils_sepaq import PARCS"
   ]
  },
  {
   "cell_type": "code",
   "execution_count": null,
   "id": "1503c22e",
   "metadata": {},
   "outputs": [],
   "source": [
    "PATH_DATA = Path(\"../data/randos\")\n",
    "MODEL_NAME = \"text-embedding-ada-002\""
   ]
  },
  {
   "cell_type": "code",
   "execution_count": null,
   "id": "03eae256",
   "metadata": {},
   "outputs": [],
   "source": [
    "list_files = os.listdir(PATH_DATA)"
   ]
  },
  {
   "cell_type": "code",
   "execution_count": null,
   "id": "7280dd04",
   "metadata": {},
   "outputs": [],
   "source": [
    "def format_treck_text(row: pd.core.series.Series):\n",
    "    text = \"\"\n",
    "    for col in row.index:\n",
    "        text = text + f\"{col}: {row[col]}\\n\"\n",
    "    return text\n",
    "    \n",
    "\n",
    "def get_embedding(text, model=\"text-embedding-ada-002\"):\n",
    "    text = text.replace(\"\\n\", \" \")\n",
    "    return openai.Embedding.create(input = [text], model=model)['data'][0]['embedding']"
   ]
  },
  {
   "cell_type": "code",
   "execution_count": null,
   "id": "8c1abbaa",
   "metadata": {},
   "outputs": [],
   "source": [
    "embeddings_list = []\n",
    "parc_list = []\n",
    "text_list = []\n",
    "\n",
    "for file in list_files:\n",
    "    parc_name = file.replace(\".csv\", \"\")\n",
    "    df_parc = pd.read_csv(Path(PATH_DATA, file))\n",
    "    \n",
    "    for _, row in df_parc.iterrows():\n",
    "        text = format_treck_text(row)\n",
    "        text_list.append(text)\n",
    "        embeddings_list.append(get_embedding(text))\n",
    "        parc_list.append(parc_name)"
   ]
  },
  {
   "cell_type": "code",
   "execution_count": null,
   "id": "5e21f4ed",
   "metadata": {},
   "outputs": [],
   "source": [
    "df_embeddings = pd.DataFrame(embeddings_list).add_prefix(\"emb_\")\n",
    "df_embeddings[\"parc\"] = parc_list\n",
    "df_embeddings[\"text\"] = text_list\n",
    "df_embeddings"
   ]
  },
  {
   "cell_type": "code",
   "execution_count": null,
   "id": "c7a573df",
   "metadata": {},
   "outputs": [],
   "source": [
    "df_embeddings.parc.value_counts()"
   ]
  },
  {
   "cell_type": "code",
   "execution_count": null,
   "id": "907db0c5",
   "metadata": {},
   "outputs": [],
   "source": [
    "df_embeddings.to_csv(\"../df_embeddings.csv\")"
   ]
  },
  {
   "cell_type": "code",
   "execution_count": null,
   "id": "1414f471",
   "metadata": {},
   "outputs": [],
   "source": [
    "prompt = \"J'aimerais une randonnée facile ou les chiens sont acceptés et ou nous pourrons amener notre poussette.\"\n",
    "prompt_embedding = get_embedding(prompt)"
   ]
  },
  {
   "cell_type": "code",
   "execution_count": null,
   "id": "6815eb1e",
   "metadata": {},
   "outputs": [],
   "source": [
    "emb_cols = [col for col in df_embeddings if col.startswith('emb_')]"
   ]
  },
  {
   "cell_type": "code",
   "execution_count": null,
   "id": "36488d09",
   "metadata": {},
   "outputs": [],
   "source": [
    "from openai.embeddings_utils import cosine_similarity\n",
    "test_emb = df_embeddings[emb_cols].apply(lambda x: cosine_similarity(x, prompt_embedding), axis=1)"
   ]
  },
  {
   "cell_type": "code",
   "execution_count": null,
   "id": "78fe201f",
   "metadata": {},
   "outputs": [],
   "source": [
    "def search_docs(doc_df, q_embedding, max_rando=20):\n",
    "    emb_cols = [col for col in doc_df if col.startswith('emb_')]\n",
    "    test_emb = df_embeddings[emb_cols].apply(lambda x: cosine_similarity(x, prompt_embedding), axis=1)\n",
    "    res = df_embeddings.iloc[test_emb.sort_values(ascending=False).index][0:(max_rando-1)][[\"parc\", \"text\"]]\n",
    "    return res\n",
    "\n",
    "test = search_docs(df_embeddings, prompt_embedding)"
   ]
  },
  {
   "cell_type": "code",
   "execution_count": null,
   "id": "9b48962b",
   "metadata": {},
   "outputs": [],
   "source": [
    "for _, row in test.iterrows():\n",
    "    doc = \"\"\n",
    "    print(row)\n",
    "    "
   ]
  },
  {
   "cell_type": "code",
   "execution_count": null,
   "id": "a453eab2",
   "metadata": {},
   "outputs": [],
   "source": [
    "df_embeddings.iloc[test_emb.sort_values(ascending=False).index].text[6]"
   ]
  }
 ],
 "metadata": {
  "kernelspec": {
   "display_name": "Buster CAS",
   "language": "python",
   "name": "buster_cas"
  },
  "language_info": {
   "codemirror_mode": {
    "name": "ipython",
    "version": 3
   },
   "file_extension": ".py",
   "mimetype": "text/x-python",
   "name": "python",
   "nbconvert_exporter": "python",
   "pygments_lexer": "ipython3",
   "version": "3.9.16"
  }
 },
 "nbformat": 4,
 "nbformat_minor": 5
}
