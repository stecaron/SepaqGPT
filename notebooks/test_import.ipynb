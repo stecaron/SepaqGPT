{
 "cells": [
  {
   "cell_type": "code",
   "execution_count": null,
   "id": "1f6883f9",
   "metadata": {},
   "outputs": [],
   "source": [
    "import pandas as pd\n",
    "import openai"
   ]
  },
  {
   "cell_type": "code",
   "execution_count": null,
   "id": "2e2c300d",
   "metadata": {},
   "outputs": [],
   "source": [
    "df_rando = pd.read_csv(\"../data/jacques_cartiers/Sheet 2-Table 1.csv\")"
   ]
  },
  {
   "cell_type": "code",
   "execution_count": null,
   "id": "128b15e0",
   "metadata": {},
   "outputs": [],
   "source": [
    "question = \"Je souhaite faire une randonnée au parc de la jacques-cartier, nous avons un chien avec nous et un enfant qui sera dans un sac de transport. Quelle randonnée vous nous recommendez? \""
   ]
  },
  {
   "cell_type": "code",
   "execution_count": null,
   "id": "28572132",
   "metadata": {},
   "outputs": [],
   "source": [
    "df_rando"
   ]
  },
  {
   "cell_type": "code",
   "execution_count": null,
   "id": "d888bf8b",
   "metadata": {},
   "outputs": [],
   "source": []
  },
  {
   "cell_type": "code",
   "execution_count": null,
   "id": "63dc3730",
   "metadata": {},
   "outputs": [],
   "source": [
    "doc_prompt_cfg = {\n",
    "        \"max_tokens\": 3500,\n",
    "        \"text_before_documents\": (\n",
    "            \"Vous etes un assistant qui soumet des recommendations pour les activités ou les hébergements de la Sépaq, un organisme mettant de l'avant les lieux de nature au Québec. \"\n",
    "            \"Voici la liste de randonnées\"\n",
    "            \"<DOCUMENTS> \"\n",
    "        ),\n",
    "        \"text_before_prompt\": (\n",
    "            \"<\\DOCUMENTS>\\n\"\n",
    "            \"Réponds à la question suivante:\\n\"  \n",
    "        )\n",
    "      }"
   ]
  },
  {
   "cell_type": "code",
   "execution_count": null,
   "id": "e90d6b97",
   "metadata": {},
   "outputs": [],
   "source": [
    "def format_doc(matched_documents, max_tokens):\n",
    "        \"\"\"Format our matched documents to plaintext.\n",
    "        We also make sure they fit in the alloted max_tokens space.\n",
    "        \"\"\"\n",
    "        documents_str = \"\"\n",
    "        total_tokens = 0\n",
    "\n",
    "        num_total_docs = len(matched_documents)\n",
    "        num_preserved_docs = 0\n",
    "        for _, row in matched_documents.iterrows():\n",
    "            doc = f\"\"\"\n",
    "            Randonnée pédestre seulement: {row['Randonnée pédestre seulement']}\\n\n",
    "            Description: {row['Description']}\\n\n",
    "            Longueur et durée: {row['Longueur et durée']}\\n\n",
    "            Degré de difficulté: {row['Degré de difficulté']}\\n\n",
    "            Lieu de départ: {row['Lieu de départ']}\n",
    "            \"\"\"\n",
    "            num_preserved_docs += 1\n",
    "            token_count = len(doc.split())\n",
    "            if total_tokens + token_count <= max_tokens:\n",
    "                documents_str += f\"<DOCUMENT>{doc}<\\\\DOCUMENT>\"\n",
    "                total_tokens += token_count\n",
    "            else:\n",
    "                remaining_tokens = max_tokens - total_tokens\n",
    "                truncated_doc = \" \".join(doc.split()[:remaining_tokens])\n",
    "                documents_str += f\"<DOCUMENT>{truncated_doc}<\\\\DOCUMENT>\"\n",
    "                break\n",
    "\n",
    "        if num_preserved_docs < (num_total_docs):\n",
    "            matched_documents = matched_documents.iloc[:num_preserved_docs]\n",
    "\n",
    "        return documents_str"
   ]
  },
  {
   "cell_type": "code",
   "execution_count": null,
   "id": "1bf97763",
   "metadata": {},
   "outputs": [],
   "source": [
    "docs = format_doc(df_rando, max_tokens=3000)"
   ]
  },
  {
   "cell_type": "code",
   "execution_count": null,
   "id": "03fd226b",
   "metadata": {},
   "outputs": [],
   "source": [
    "def format_prompt(documents_str, config):\n",
    "        \"\"\"\n",
    "        Prepare the system prompt with prompt engineering.\n",
    "\n",
    "        Joins the text before and after documents with\n",
    "        \"\"\"\n",
    "        formatter = \"{text_before_documents}\\n{documents}\\n{text_before_prompt}\"\n",
    "        system_prompt = formatter.format(\n",
    "            text_before_documents=config[\"text_before_documents\"], documents=documents_str, text_before_prompt=config[\"text_before_prompt\"]\n",
    "        )\n",
    "        token_count = len(system_prompt.split())\n",
    "        if token_count > config[\"max_tokens\"]:\n",
    "            raise ValueError(f\"System prompt tokens > {config['max_tokens']}\")\n",
    "        return system_prompt"
   ]
  },
  {
   "cell_type": "code",
   "execution_count": null,
   "id": "98b5000d",
   "metadata": {},
   "outputs": [],
   "source": [
    "simple_prompt_cfg = {\n",
    "            \"max_tokens\": 3500,\n",
    "            \"text_before_documents\": \"You are a chatbot answering questions.\\n\",\n",
    "            \"text_before_prompt\": \"Answer the following question:\\n\",\n",
    "        }"
   ]
  },
  {
   "cell_type": "code",
   "execution_count": null,
   "id": "3bd41401",
   "metadata": {},
   "outputs": [],
   "source": [
    "prompt = format_prompt(docs, doc_prompt_cfg)"
   ]
  },
  {
   "cell_type": "code",
   "execution_count": null,
   "id": "68bd0a20",
   "metadata": {},
   "outputs": [],
   "source": [
    "prompt_w_question = prompt + question"
   ]
  },
  {
   "cell_type": "code",
   "execution_count": null,
   "id": "26e1c96a",
   "metadata": {},
   "outputs": [],
   "source": [
    "response = openai.Completion.create(\n",
    "          model=\"text-davinci-003\",\n",
    "          prompt=prompt_w_question,\n",
    "          temperature=0.8,\n",
    "          max_tokens=1000,\n",
    "          top_p=1.0,\n",
    "          frequency_penalty=0.0,\n",
    "          presence_penalty=0.0\n",
    "      )"
   ]
  },
  {
   "cell_type": "code",
   "execution_count": null,
   "id": "aa0acb6f",
   "metadata": {},
   "outputs": [],
   "source": [
    "response"
   ]
  },
  {
   "cell_type": "code",
   "execution_count": null,
   "id": "4fa4a6ad",
   "metadata": {},
   "outputs": [],
   "source": [
    "completion = openai.ChatCompletion.create(\n",
    "  model=\"gpt-3.5-turbo\",\n",
    "  messages=[\n",
    "    {\"role\": \"user\", \"content\": f\"{prompt_w_question}\"},\n",
    "    {\"role\": \"assistant\", \"content\": f\"Je vous recommande la randonn\\u00e9e p\\u00e9destre \\\"La Tourbi\\u00e8re\\\" au parc de la Jacques-Cartier. Cette randonn\\u00e9e est facile et dure environ 1 heure. Les chiens sont admis dans ce sentier, selon certaines conditions, ce qui est id\\u00e9al pour vous. De plus, la randonn\\u00e9e est relativement courte, ce qui convient \\u00e0 votre enfant qui sera dans un sac de transport. Vous pourrez d\\u00e9couvrir une tourbi\\u00e8re, une sapini\\u00e8re et une for\\u00eat de bouleaux jaunes lors de cette randonn\\u00e9e. Le lieu de d\\u00e9part se trouve au Chemin du Parc-National au km 3.\"},\n",
    "    {\"role\": \"user\", \"content\": f\"Merci pour la suggestion, mais je cherche une randonnée un peu plus longue, toute en étant acceptée pour les chiens. Une idée?\"}\n",
    "  ],\n",
    "  temperature=0.5\n",
    ")\n",
    "\n",
    "print(completion.choices[0].message)"
   ]
  },
  {
   "cell_type": "code",
   "execution_count": null,
   "id": "78e10eb7",
   "metadata": {},
   "outputs": [],
   "source": [
    "print(completion.choices[0].message)"
   ]
  },
  {
   "cell_type": "code",
   "execution_count": null,
   "id": "e77071df",
   "metadata": {},
   "outputs": [],
   "source": [
    "response"
   ]
  }
 ],
 "metadata": {
  "kernelspec": {
   "display_name": "Buster CAS",
   "language": "python",
   "name": "buster_cas"
  },
  "language_info": {
   "codemirror_mode": {
    "name": "ipython",
    "version": 3
   },
   "file_extension": ".py",
   "mimetype": "text/x-python",
   "name": "python",
   "nbconvert_exporter": "python",
   "pygments_lexer": "ipython3",
   "version": "3.9.16"
  }
 },
 "nbformat": 4,
 "nbformat_minor": 5
}
